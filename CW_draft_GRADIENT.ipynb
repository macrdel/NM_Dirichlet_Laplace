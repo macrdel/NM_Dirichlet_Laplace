{
 "cells": [
  {
   "cell_type": "code",
   "execution_count": 1,
   "metadata": {},
   "outputs": [],
   "source": [
    "import numpy as np\n",
    "from matplotlib import pyplot as plt\n",
    "import seaborn as sns"
   ]
  },
  {
   "cell_type": "markdown",
   "metadata": {},
   "source": [
    "### 1"
   ]
  },
  {
   "cell_type": "code",
   "execution_count": 2,
   "metadata": {},
   "outputs": [],
   "source": [
    "A = 8\n",
    "B = 4\n",
    "C = 4"
   ]
  },
  {
   "cell_type": "code",
   "execution_count": 3,
   "metadata": {},
   "outputs": [],
   "source": [
    "h = 0.5"
   ]
  },
  {
   "cell_type": "code",
   "execution_count": 12,
   "metadata": {},
   "outputs": [],
   "source": [
    "def F(x, y):\n",
    "    return np.sin(np.pi * x * 0.25) * np.sin(np.pi * y * 0.25)"
   ]
  },
  {
   "cell_type": "code",
   "execution_count": 5,
   "metadata": {},
   "outputs": [],
   "source": [
    "vert_1 = int(C / h - 1.)\n",
    "vert_2 = int(B / h)\n",
    "start_1 = 1\n",
    "start_2 = int(0.5 * (A / h) + 1.)"
   ]
  },
  {
   "cell_type": "code",
   "execution_count": 6,
   "metadata": {},
   "outputs": [],
   "source": [
    "def b():\n",
    "    mtx = np.zeros((int((B + C) / h + 1), int(A / h + 1)))\n",
    "    for i in reversed(range(mtx.shape[0] - 1 - vert_1, mtx.shape[0] - 1)):\n",
    "        for j in range(start_1, mtx.shape[1] - 1):\n",
    "            mtx[i][j] = F(i * h, j * h) \n",
    "\n",
    "    for i in reversed(range(1, vert_2 + 1)):\n",
    "        for j in range(start_2, mtx.shape[1] - 1):\n",
    "            mtx[i][j] = F(i * h, j * h)\n",
    "    \n",
    "    return mtx"
   ]
  },
  {
   "cell_type": "code",
   "execution_count": 7,
   "metadata": {},
   "outputs": [],
   "source": [
    "def A_(P):\n",
    "    P_ = np.zeros((int((B + C) / h + 1), int(A / h + 1)))\n",
    "    for i in reversed(range(P.shape[0] - 1 - vert_1, P.shape[0] - 1)):\n",
    "        for j in range(start_1, P.shape[1] - 1):\n",
    "            P_[i][j] = (-1) * (h ** (-2)) * (P[i - 1][j] + P[i + 1][j] + P[i][j + 1] + P[i][j - 1] - 4 * P[i][j]) \n",
    "\n",
    "    for i in reversed(range(1, vert_2 + 1)):\n",
    "        for j in range(start_2, P.shape[1] - 1):\n",
    "            P_[i][j] = (-1) * (h ** (-2)) * (P[i - 1][j] + P[i + 1][j] + P[i][j + 1] + P[i][j - 1] - 4 * P[i][j])\n",
    "    \n",
    "    return P_"
   ]
  },
  {
   "cell_type": "code",
   "execution_count": 14,
   "metadata": {},
   "outputs": [],
   "source": [
    "def CG(eps = 10 ** (-2)):\n",
    "    T = np.zeros((int((B + C) / h + 1), int(A / h + 1)))\n",
    "    T_ = np.copy(T)\n",
    "    r0 = b()\n",
    "    p = np.copy(r0)\n",
    "    it = 1\n",
    "    while True:\n",
    "        tmp = A_(p)\n",
    "        alp = np.sum(r0 * r0) / np.sum(tmp * p)\n",
    "        T = T_ +  alp * p\n",
    "        r = r0 - alp * tmp\n",
    "        bett = np.sum(r * r) / np.sum(r0 * r0) \n",
    "        p = r + bett * p\n",
    "        \n",
    "        if  np.linalg.norm(np.subtract(T, T_), ord = 1) < eps:\n",
    "            break\n",
    "        else:\n",
    "            it += 1\n",
    "            T_ = np.copy(T)\n",
    "            r0 = np.copy(r)\n",
    "    \n",
    "    print('Количество итераций ', it)\n",
    "        \n",
    "    return T"
   ]
  },
  {
   "cell_type": "code",
   "execution_count": 15,
   "metadata": {},
   "outputs": [
    {
     "name": "stdout",
     "output_type": "stream",
     "text": [
      "Количество итераций  2\n",
      "[[ 0.00000000e+00  0.00000000e+00  0.00000000e+00  0.00000000e+00\n",
      "   0.00000000e+00  0.00000000e+00  0.00000000e+00  0.00000000e+00\n",
      "   0.00000000e+00  0.00000000e+00  0.00000000e+00  0.00000000e+00\n",
      "   0.00000000e+00  0.00000000e+00  0.00000000e+00  0.00000000e+00\n",
      "   0.00000000e+00]\n",
      " [ 0.00000000e+00  0.00000000e+00  0.00000000e+00  0.00000000e+00\n",
      "   0.00000000e+00  0.00000000e+00  0.00000000e+00  0.00000000e+00\n",
      "   0.00000000e+00 -1.20242471e-01 -2.22179115e-01 -2.90291004e-01\n",
      "  -3.14208718e-01 -2.90291004e-01 -2.22179115e-01 -1.20242471e-01\n",
      "   0.00000000e+00]\n",
      " [ 0.00000000e+00  0.00000000e+00  0.00000000e+00  0.00000000e+00\n",
      "   0.00000000e+00  0.00000000e+00  0.00000000e+00  0.00000000e+00\n",
      "   0.00000000e+00 -2.22179115e-01 -4.10533475e-01 -5.36387834e-01\n",
      "  -5.80582007e-01 -5.36387834e-01 -4.10533475e-01 -2.22179115e-01\n",
      "   0.00000000e+00]\n",
      " [ 0.00000000e+00  0.00000000e+00  0.00000000e+00  0.00000000e+00\n",
      "   0.00000000e+00  0.00000000e+00  0.00000000e+00  0.00000000e+00\n",
      "   0.00000000e+00 -2.90291004e-01 -5.36387834e-01 -7.00824478e-01\n",
      "  -7.58566949e-01 -7.00824478e-01 -5.36387834e-01 -2.90291004e-01\n",
      "   0.00000000e+00]\n",
      " [ 0.00000000e+00  0.00000000e+00  0.00000000e+00  0.00000000e+00\n",
      "   0.00000000e+00  0.00000000e+00  0.00000000e+00  0.00000000e+00\n",
      "   0.00000000e+00 -3.14208718e-01 -5.80582007e-01 -7.58566949e-01\n",
      "  -8.21066949e-01 -7.58566949e-01 -5.80582007e-01 -3.14208718e-01\n",
      "   0.00000000e+00]\n",
      " [ 0.00000000e+00  0.00000000e+00  0.00000000e+00  0.00000000e+00\n",
      "   0.00000000e+00  0.00000000e+00  0.00000000e+00  0.00000000e+00\n",
      "   0.00000000e+00 -2.90291004e-01 -5.36387834e-01 -7.00824478e-01\n",
      "  -7.58566949e-01 -7.00824478e-01 -5.36387834e-01 -2.90291004e-01\n",
      "   0.00000000e+00]\n",
      " [ 0.00000000e+00  0.00000000e+00  0.00000000e+00  0.00000000e+00\n",
      "   0.00000000e+00  0.00000000e+00  0.00000000e+00  0.00000000e+00\n",
      "   0.00000000e+00 -2.22179115e-01 -4.10533475e-01 -5.36387834e-01\n",
      "  -5.80582007e-01 -5.36387834e-01 -4.10533475e-01 -2.22179115e-01\n",
      "   0.00000000e+00]\n",
      " [ 0.00000000e+00  0.00000000e+00  0.00000000e+00  0.00000000e+00\n",
      "   0.00000000e+00  0.00000000e+00  0.00000000e+00  0.00000000e+00\n",
      "   0.00000000e+00 -1.20242471e-01 -2.22179115e-01 -2.90291004e-01\n",
      "  -3.14208718e-01 -2.90291004e-01 -2.22179115e-01 -1.20242471e-01\n",
      "   0.00000000e+00]\n",
      " [ 0.00000000e+00  0.00000000e+00  0.00000000e+00  0.00000000e+00\n",
      "   0.00000000e+00  0.00000000e+00  0.00000000e+00  0.00000000e+00\n",
      "   0.00000000e+00 -3.75880016e-17 -7.28483454e-17 -9.63748389e-17\n",
      "  -9.94160704e-17 -9.63748389e-17 -5.79825463e-17 -3.75880016e-17\n",
      "   0.00000000e+00]\n",
      " [ 0.00000000e+00 -1.20242471e-01 -2.22179115e-01 -2.90291004e-01\n",
      "  -3.14208718e-01 -2.90291004e-01 -2.22179115e-01 -1.20242471e-01\n",
      "  -3.66965331e-17  1.20242471e-01  2.22179115e-01  2.90291004e-01\n",
      "   3.14208718e-01  2.90291004e-01  2.22179115e-01  1.20242471e-01\n",
      "   0.00000000e+00]\n",
      " [ 0.00000000e+00 -2.22179115e-01 -4.10533475e-01 -5.36387834e-01\n",
      "  -5.80582007e-01 -5.36387834e-01 -4.10533475e-01 -2.22179115e-01\n",
      "  -7.45959011e-17  2.22179115e-01  4.10533475e-01  5.36387834e-01\n",
      "   5.80582007e-01  5.36387834e-01  4.10533475e-01  2.22179115e-01\n",
      "   0.00000000e+00]\n",
      " [ 0.00000000e+00 -2.90291004e-01 -5.36387834e-01 -7.00824478e-01\n",
      "  -7.58566949e-01 -7.00824478e-01 -5.36387834e-01 -2.90291004e-01\n",
      "  -9.98520193e-17  2.90291004e-01  5.36387834e-01  7.00824478e-01\n",
      "   7.58566949e-01  7.00824478e-01  5.36387834e-01  2.90291004e-01\n",
      "   0.00000000e+00]\n",
      " [ 0.00000000e+00 -3.14208718e-01 -5.80582007e-01 -7.58566949e-01\n",
      "  -8.21066949e-01 -7.58566949e-01 -5.80582007e-01 -3.14208718e-01\n",
      "  -9.82804397e-17  3.14208718e-01  5.80582007e-01  7.58566949e-01\n",
      "   8.21066949e-01  7.58566949e-01  5.80582007e-01  3.14208718e-01\n",
      "   0.00000000e+00]\n",
      " [ 0.00000000e+00 -2.90291004e-01 -5.36387834e-01 -7.00824478e-01\n",
      "  -7.58566949e-01 -7.00824478e-01 -5.36387834e-01 -2.90291004e-01\n",
      "  -9.98520193e-17  2.90291004e-01  5.36387834e-01  7.00824478e-01\n",
      "   7.58566949e-01  7.00824478e-01  5.36387834e-01  2.90291004e-01\n",
      "   0.00000000e+00]\n",
      " [ 0.00000000e+00 -2.22179115e-01 -4.10533475e-01 -5.36387834e-01\n",
      "  -5.80582007e-01 -5.36387834e-01 -4.10533475e-01 -2.22179115e-01\n",
      "  -5.97301021e-17  2.22179115e-01  4.10533475e-01  5.36387834e-01\n",
      "   5.80582007e-01  5.36387834e-01  4.10533475e-01  2.22179115e-01\n",
      "   0.00000000e+00]\n",
      " [ 0.00000000e+00 -1.20242471e-01 -2.22179115e-01 -2.90291004e-01\n",
      "  -3.14208718e-01 -2.90291004e-01 -2.22179115e-01 -1.20242471e-01\n",
      "  -3.66965331e-17  1.20242471e-01  2.22179115e-01  2.90291004e-01\n",
      "   3.14208718e-01  2.90291004e-01  2.22179115e-01  1.20242471e-01\n",
      "   0.00000000e+00]\n",
      " [ 0.00000000e+00  0.00000000e+00  0.00000000e+00  0.00000000e+00\n",
      "   0.00000000e+00  0.00000000e+00  0.00000000e+00  0.00000000e+00\n",
      "   0.00000000e+00  0.00000000e+00  0.00000000e+00  0.00000000e+00\n",
      "   0.00000000e+00  0.00000000e+00  0.00000000e+00  0.00000000e+00\n",
      "   0.00000000e+00]]\n"
     ]
    }
   ],
   "source": [
    "mtx = CG()\n",
    "print(mtx)"
   ]
  },
  {
   "cell_type": "code",
   "execution_count": 16,
   "metadata": {},
   "outputs": [
    {
     "data": {
      "text/plain": [
       "<AxesSubplot:>"
      ]
     },
     "execution_count": 16,
     "metadata": {},
     "output_type": "execute_result"
    },
    {
     "data": {
      "image/png": "[encoded data removed]",
      "text/plain": [
       "<Figure size 864x576 with 2 Axes>"
      ]
     },
     "metadata": {
      "needs_background": "light"
     },
     "output_type": "display_data"
    }
   ],
   "source": [
    "plt.figure(figsize = (12, 8))\n",
    "sns.heatmap(mtx, cmap = 'jet', xticklabels = False, yticklabels = False)"
   ]
  },
  {
   "cell_type": "markdown",
   "metadata": {},
   "source": [
    "### 2"
   ]
  },
  {
   "cell_type": "code",
   "execution_count": 2,
   "metadata": {},
   "outputs": [],
   "source": [
    "A = 2\n",
    "B = 1\n",
    "C = 1"
   ]
  },
  {
   "cell_type": "code",
   "execution_count": 3,
   "metadata": {},
   "outputs": [],
   "source": [
    "h = 0.1"
   ]
  },
  {
   "cell_type": "code",
   "execution_count": 4,
   "metadata": {},
   "outputs": [],
   "source": [
    "def g(y):\n",
    "    return np.sin(np.pi * y)"
   ]
  },
  {
   "cell_type": "code",
   "execution_count": 5,
   "metadata": {},
   "outputs": [],
   "source": [
    "def F(x, y):\n",
    "    return np.exp(-x) * np.sin(np.pi * y) * (np.pi ** 2 - 1)"
   ]
  },
  {
   "cell_type": "code",
   "execution_count": 6,
   "metadata": {},
   "outputs": [],
   "source": [
    "vert_1 = int(C / h - 1.)\n",
    "vert_2 = int(B / h)\n",
    "start_1 = 1\n",
    "start_2 = int(0.5 * (A / h) + 1.)"
   ]
  },
  {
   "cell_type": "code",
   "execution_count": 7,
   "metadata": {},
   "outputs": [],
   "source": [
    "def initial(h = 0.1):\n",
    "    size_1 = int((B + C) / h + 1)\n",
    "    size_2 = int(A / h + 1)\n",
    "    mtx = np.zeros((size_1, size_2))\n",
    "    for i in reversed(range(int(B / h + 1), size_1 - 1)):\n",
    "        mtx[i][0] = g(i * h)\n",
    "    for j in range(1, int((A / 2) / h + 1)):\n",
    "        mtx[int(B / h)][j] = 0\n",
    "    for i in reversed(range(1, int(B / h))):\n",
    "        mtx[i][int((A / 2) / h)] = g(i * h) / np.exp(1)\n",
    "    for j in range(int((A / 2) / h + 1), size_2 - 1):\n",
    "        mtx[0][j] = 0\n",
    "    for i in range(1, size_1 - 1):\n",
    "        mtx[i][size_2 - 1] = g(i * h) / np.exp(2)\n",
    "    for j in range(1, size_2 - 1):\n",
    "        mtx[size_1 -1][j] = 0\n",
    "    return mtx"
   ]
  },
  {
   "cell_type": "code",
   "execution_count": 8,
   "metadata": {},
   "outputs": [],
   "source": [
    "def b():\n",
    "    mtx = np.zeros((int((B + C) / h + 1), int(A / h + 1)))\n",
    "    for i in reversed(range(mtx.shape[0] - 1 - vert_1, mtx.shape[0] - 1)):\n",
    "        for j in range(start_1, mtx.shape[1] - 1):\n",
    "            if j == start_1:\n",
    "                mtx[i][j] = F(j * h, i * h) + g(i * h) / h ** 2\n",
    "            elif j == mtx.shape[1] - 2:\n",
    "                mtx[i][j] = F(j * h, i * h) + np.exp(-2) * g(i * h) / h ** 2\n",
    "            else:\n",
    "                mtx[i][j] = F(j * h, i * h)\n",
    "\n",
    "    for i in reversed(range(1, vert_2 + 1)):\n",
    "        for j in range(start_2, mtx.shape[1] - 1):\n",
    "            if j == start_2:\n",
    "                mtx[i][j] = F(j * h, i * h) + np.exp(-1) * g(i * h) / h ** 2\n",
    "            elif j == mtx.shape[1] - 2:\n",
    "                mtx[i][j] = F(j * h, i * h) + np.exp(-2) * g(i * h) / h ** 2\n",
    "            else:\n",
    "                mtx[i][j] = F(j * h, i * h)\n",
    "    \n",
    "    return mtx"
   ]
  },
  {
   "cell_type": "code",
   "execution_count": 8,
   "metadata": {},
   "outputs": [],
   "source": [
    "def CG(eps = 10 ** (-2)):\n",
    "    T = initial()\n",
    "    T_ = np.copy(T)\n",
    "    r0 = b()\n",
    "    p = np.copy(r0)\n",
    "    print(p.shape)\n",
    "    it = 1\n",
    "    while True:\n",
    "        tmp = A_(p)\n",
    "        alp = np.sum(r0 * r0) / np.sum(tmp * p)\n",
    "        T = T_ +  alp * p\n",
    "        r = r0 - alp * tmp\n",
    "        bett = np.sum(r * r) / np.sum(r0 * r0) \n",
    "        p = r + bett * p\n",
    "        \n",
    "        if  np.linalg.norm(np.subtract(T, T_), ord = 1) < eps:\n",
    "            break\n",
    "        else:\n",
    "            it += 1\n",
    "            T_ = np.copy(T)\n",
    "            r0 = np.copy(r)\n",
    "    \n",
    "    print('Количество итераций ', it)\n",
    "        \n",
    "    return T"
   ]
  },
  {
   "cell_type": "code",
   "execution_count": 11,
   "metadata": {},
   "outputs": [
    {
     "name": "stdout",
     "output_type": "stream",
     "text": [
      "(21, 21)\n",
      "Количество итераций  26\n",
      "[[ 0.00000000e+00  0.00000000e+00  0.00000000e+00  0.00000000e+00\n",
      "   0.00000000e+00  0.00000000e+00  0.00000000e+00  0.00000000e+00\n",
      "   0.00000000e+00  0.00000000e+00  0.00000000e+00  0.00000000e+00\n",
      "   0.00000000e+00  0.00000000e+00  0.00000000e+00  0.00000000e+00\n",
      "   0.00000000e+00  0.00000000e+00  0.00000000e+00  0.00000000e+00\n",
      "   0.00000000e+00]\n",
      " [ 0.00000000e+00  0.00000000e+00  0.00000000e+00  0.00000000e+00\n",
      "   0.00000000e+00  0.00000000e+00  0.00000000e+00  0.00000000e+00\n",
      "   0.00000000e+00  0.00000000e+00  1.13680999e-01  1.03039143e-01\n",
      "   9.33931548e-02  8.45605973e-02  7.66301170e-02  6.94508999e-02\n",
      "   6.27201572e-02  5.67677963e-02  5.12202592e-02  4.64325462e-02\n",
      "   4.18209025e-02]\n",
      " [ 0.00000000e+00  0.00000000e+00  0.00000000e+00  0.00000000e+00\n",
      "   0.00000000e+00  0.00000000e+00  0.00000000e+00  0.00000000e+00\n",
      "   0.00000000e+00  0.00000000e+00  2.16234110e-01  1.96035233e-01\n",
      "   1.77611243e-01  1.60881038e-01  1.45866274e-01  1.31980152e-01\n",
      "   1.19401201e-01  1.08091266e-01  9.74975795e-02  8.81265548e-02\n",
      "   7.95480836e-02]\n",
      " [ 0.00000000e+00  0.00000000e+00  0.00000000e+00  0.00000000e+00\n",
      "   0.00000000e+00  0.00000000e+00  0.00000000e+00  0.00000000e+00\n",
      "   0.00000000e+00  0.00000000e+00  2.97620720e-01  2.69842978e-01\n",
      "   2.44480098e-01  2.21534405e-01  2.00656422e-01  1.81891423e-01\n",
      "   1.64443385e-01  1.48618236e-01  1.34453360e-01  1.21345149e-01\n",
      "   1.09488544e-01]\n",
      " [ 0.00000000e+00  0.00000000e+00  0.00000000e+00  0.00000000e+00\n",
      "   0.00000000e+00  0.00000000e+00  0.00000000e+00  0.00000000e+00\n",
      "   0.00000000e+00  0.00000000e+00  3.49874140e-01  3.17266626e-01\n",
      "   2.87452964e-01  2.60426507e-01  2.36043140e-01  2.13806052e-01\n",
      "   1.93453221e-01  1.74943311e-01  1.58104213e-01  1.42696895e-01\n",
      "   1.28711503e-01]\n",
      " [ 0.00000000e+00  0.00000000e+00  0.00000000e+00  0.00000000e+00\n",
      "   0.00000000e+00  0.00000000e+00  0.00000000e+00  0.00000000e+00\n",
      "   0.00000000e+00  0.00000000e+00  3.67879441e-01  3.33627599e-01\n",
      "   3.02312926e-01  2.73940525e-01  2.48156376e-01  2.24940831e-01\n",
      "   2.03548997e-01  1.84176300e-01  1.66325446e-01  1.50198009e-01\n",
      "   1.35335283e-01]\n",
      " [ 0.00000000e+00  0.00000000e+00  0.00000000e+00  0.00000000e+00\n",
      "   0.00000000e+00  0.00000000e+00  0.00000000e+00  0.00000000e+00\n",
      "   0.00000000e+00  0.00000000e+00  3.49874140e-01  3.17351055e-01\n",
      "   2.87632276e-01  2.60500671e-01  2.36222949e-01  2.13947760e-01\n",
      "   1.93730125e-01  1.75279543e-01  1.58508399e-01  1.42965620e-01\n",
      "   1.28711503e-01]\n",
      " [ 0.00000000e+00  0.00000000e+00  0.00000000e+00  0.00000000e+00\n",
      "   0.00000000e+00  0.00000000e+00  0.00000000e+00  0.00000000e+00\n",
      "   0.00000000e+00  0.00000000e+00  2.97620720e-01  2.70004032e-01\n",
      "   2.44730699e-01  2.21721145e-01  2.00904455e-01  1.82150993e-01\n",
      "   1.64939551e-01  1.49353502e-01  1.35035588e-01  1.21729572e-01\n",
      "   1.09488544e-01]\n",
      " [ 0.00000000e+00  0.00000000e+00  0.00000000e+00  0.00000000e+00\n",
      "   0.00000000e+00  0.00000000e+00  0.00000000e+00  0.00000000e+00\n",
      "   0.00000000e+00  0.00000000e+00  2.16234110e-01  1.96198843e-01\n",
      "   1.77894064e-01  1.61061499e-01  1.46063742e-01  1.32430577e-01\n",
      "   1.19932868e-01  1.08691477e-01  9.84217326e-02  8.87307299e-02\n",
      "   7.95480836e-02]\n",
      " [ 0.00000000e+00  0.00000000e+00  0.00000000e+00  0.00000000e+00\n",
      "   0.00000000e+00  0.00000000e+00  0.00000000e+00  0.00000000e+00\n",
      "   0.00000000e+00  0.00000000e+00  1.13680999e-01  1.03159199e-01\n",
      "   9.34900044e-02  8.46797321e-02  7.67653824e-02  6.97099797e-02\n",
      "   6.32479954e-02  5.74032814e-02  5.21160048e-02  4.68536888e-02\n",
      "   4.18209025e-02]\n",
      " [ 0.00000000e+00  0.00000000e+00  0.00000000e+00  0.00000000e+00\n",
      "   0.00000000e+00  0.00000000e+00  0.00000000e+00  0.00000000e+00\n",
      "   0.00000000e+00  0.00000000e+00  0.00000000e+00 -9.28152070e-05\n",
      "  -1.02832090e-04 -1.99479218e-04 -8.65679891e-05  1.65726418e-04\n",
      "   2.04207311e-04  4.14222899e-04  6.97077359e-04  5.87475038e-04\n",
      "   1.65737921e-17]\n",
      " [-3.09016994e-01 -2.80063583e-01 -2.53725681e-01 -2.29823446e-01\n",
      "  -2.08101107e-01 -1.88430707e-01 -1.70560489e-01 -1.54442467e-01\n",
      "  -1.39735774e-01 -1.26532214e-01 -1.14458437e-01 -1.03720114e-01\n",
      "  -9.38856160e-02 -8.50941168e-02 -7.70321060e-02 -6.95383430e-02\n",
      "  -6.27650984e-02 -5.66555175e-02 -5.08392417e-02 -4.59566413e-02\n",
      "  -4.18209025e-02]\n",
      " [-5.87785252e-01 -5.32710035e-01 -4.82636658e-01 -4.37111567e-01\n",
      "  -3.95863426e-01 -3.58368735e-01 -3.24474471e-01 -2.93707548e-01\n",
      "  -2.65876661e-01 -2.40622352e-01 -2.17821820e-01 -1.97252773e-01\n",
      "  -1.78598970e-01 -1.61808070e-01 -1.46525608e-01 -1.32387704e-01\n",
      "  -1.19789878e-01 -1.08222647e-01 -9.74325156e-02 -8.78024514e-02\n",
      "  -7.95480836e-02]\n",
      " [-8.09016994e-01 -7.33214789e-01 -6.64257588e-01 -6.01678785e-01\n",
      "  -5.44808928e-01 -4.93299602e-01 -4.46535319e-01 -4.04310645e-01\n",
      "  -3.65873744e-01 -3.31310698e-01 -2.99771538e-01 -2.71658101e-01\n",
      "  -2.45865782e-01 -2.22727579e-01 -2.01744760e-01 -1.82387455e-01\n",
      "  -1.64960167e-01 -1.49249503e-01 -1.34499877e-01 -1.21249835e-01\n",
      "  -1.09488544e-01]\n",
      " [-9.51056516e-01 -8.61935200e-01 -7.80912200e-01 -7.07260823e-01\n",
      "  -6.40493401e-01 -5.79862231e-01 -5.24978177e-01 -4.75262144e-01\n",
      "  -4.30156394e-01 -3.89458270e-01 -3.52525563e-01 -3.19390157e-01\n",
      "  -2.89144489e-01 -2.61946614e-01 -2.37164019e-01 -2.14546657e-01\n",
      "  -1.94122348e-01 -1.75694332e-01 -1.58380115e-01 -1.42663326e-01\n",
      "  -1.28711503e-01]\n",
      " [-1.00000000e+00 -9.06301012e-01 -8.21082327e-01 -7.43679987e-01\n",
      "  -6.73446568e-01 -6.09699331e-01 -5.51968799e-01 -4.99743031e-01\n",
      "  -4.52282090e-01 -4.09550841e-01 -3.70694653e-01 -3.35931914e-01\n",
      "  -3.04134945e-01 -2.75415899e-01 -2.49566214e-01 -2.25600961e-01\n",
      "  -2.04255179e-01 -1.84881421e-01 -1.66853504e-01 -1.50138746e-01\n",
      "  -1.35335283e-01]\n",
      " [-9.51056516e-01 -8.61951215e-01 -7.80870037e-01 -7.07312781e-01\n",
      "  -6.40465366e-01 -5.79877039e-01 -5.24952576e-01 -4.75253816e-01\n",
      "  -4.30189421e-01 -3.89461016e-01 -3.52654371e-01 -3.19477333e-01\n",
      "  -2.89356828e-01 -2.62012450e-01 -2.37318226e-01 -2.14703172e-01\n",
      "  -1.94371217e-01 -1.76082522e-01 -1.58742138e-01 -1.42948065e-01\n",
      "  -1.28711503e-01]\n",
      " [-8.09016994e-01 -7.33198054e-01 -6.64315063e-01 -6.01616417e-01\n",
      "  -5.44826823e-01 -4.93305581e-01 -4.46502907e-01 -4.04336290e-01\n",
      "  -3.65875146e-01 -3.31375728e-01 -2.99923553e-01 -2.71884184e-01\n",
      "  -2.46117785e-01 -2.22939963e-01 -2.01960380e-01 -1.82653004e-01\n",
      "  -1.65474228e-01 -1.49922401e-01 -1.35139580e-01 -1.21617524e-01\n",
      "  -1.09488544e-01]\n",
      " [-5.87785252e-01 -5.32688699e-01 -4.82621987e-01 -4.37147703e-01\n",
      "  -3.95841798e-01 -3.58368456e-01 -3.24474313e-01 -2.93703168e-01\n",
      "  -2.65896560e-01 -2.40703739e-01 -2.17983865e-01 -1.97497768e-01\n",
      "  -1.78901689e-01 -1.61984151e-01 -1.46722918e-01 -1.32837850e-01\n",
      "  -1.20299916e-01 -1.08858994e-01 -9.83419982e-02 -8.83852907e-02\n",
      "  -7.95480836e-02]\n",
      " [-3.09016994e-01 -2.80110462e-01 -2.53686629e-01 -2.29823194e-01\n",
      "  -2.08126477e-01 -1.88381311e-01 -1.70614201e-01 -1.54392089e-01\n",
      "  -1.39801323e-01 -1.26552939e-01 -1.14594012e-01 -1.03860894e-01\n",
      "  -9.40480145e-02 -8.51628729e-02 -7.72210835e-02 -6.97480266e-02\n",
      "  -6.33183060e-02 -5.72907510e-02 -5.16959352e-02 -4.64246626e-02\n",
      "  -4.18209025e-02]\n",
      " [ 0.00000000e+00  0.00000000e+00  0.00000000e+00  0.00000000e+00\n",
      "   0.00000000e+00  0.00000000e+00  0.00000000e+00  0.00000000e+00\n",
      "   0.00000000e+00  0.00000000e+00  0.00000000e+00  0.00000000e+00\n",
      "   0.00000000e+00  0.00000000e+00  0.00000000e+00  0.00000000e+00\n",
      "   0.00000000e+00  0.00000000e+00  0.00000000e+00  0.00000000e+00\n",
      "   0.00000000e+00]]\n"
     ]
    }
   ],
   "source": [
    "mtx = CG()\n",
    "print(mtx)"
   ]
  },
  {
   "cell_type": "code",
   "execution_count": 12,
   "metadata": {},
   "outputs": [
    {
     "data": {
      "text/plain": [
       "<AxesSubplot:>"
      ]
     },
     "execution_count": 12,
     "metadata": {},
     "output_type": "execute_result"
    },
    {
     "data": {
      "image/png": "[encoded data removed]",
      "text/plain": [
       "<Figure size 864x576 with 2 Axes>"
      ]
     },
     "metadata": {
      "needs_background": "light"
     },
     "output_type": "display_data"
    }
   ],
   "source": [
    "plt.figure(figsize = (12, 8))\n",
    "sns.heatmap(mtx, cmap = 'jet', xticklabels = False, yticklabels = False)"
   ]
  },
  {
   "cell_type": "markdown",
   "metadata": {},
   "source": [
    "### 3"
   ]
  },
  {
   "cell_type": "code",
   "execution_count": 2,
   "metadata": {},
   "outputs": [],
   "source": [
    "Gamma_1 = Gamma_4 = 28\n",
    "Gamma_2 = Gamma_3 = 70\n",
    "Gamma_5 = Gamma_6 = 25\n",
    "A = 150\n",
    "B = 75\n",
    "C = 45"
   ]
  },
  {
   "cell_type": "code",
   "execution_count": 3,
   "metadata": {},
   "outputs": [],
   "source": [
    "h = 1"
   ]
  },
  {
   "cell_type": "code",
   "execution_count": 4,
   "metadata": {},
   "outputs": [],
   "source": [
    "def initial():\n",
    "    size_1 = int((B + C) / h + 1)\n",
    "    size_2 = int(A / h + 1)\n",
    "    mtx = np.zeros((size_1, size_2))\n",
    "    mtx[size_1 - 2 : int(B / h) : -1, 0] = Gamma_1\n",
    "    mtx[int(B / h), : int((A / 2) / h + 1)] = Gamma_2\n",
    "    mtx[int(B / h - 1) : : -1, int((A / 2) / h)] = Gamma_3\n",
    "    mtx[0, int((A / 2) / h + 1) : size_2 - 1] = Gamma_4\n",
    "    mtx[1 : size_1, size_2 - 1] = Gamma_5\n",
    "    mtx[size_1 - 1, 1 : size_2 - 1] = Gamma_6\n",
    "    mtx[size_1 - 1, 0] = mtx[0, size_2 - 1] = (Gamma_1 + Gamma_6) / 2\n",
    "    return mtx"
   ]
  },
  {
   "cell_type": "code",
   "execution_count": 5,
   "metadata": {},
   "outputs": [],
   "source": [
    "vert_1 = int(C / h - 1.)\n",
    "vert_2 = int(B / h)\n",
    "start_1 = 1\n",
    "start_2 = int(0.5 * (A / h) + 1.)"
   ]
  },
  {
   "cell_type": "code",
   "execution_count": 15,
   "metadata": {},
   "outputs": [],
   "source": [
    "def b():\n",
    "    mtx = np.zeros((int((B + C) / h + 1), int(A / h + 1)))\n",
    "    for i in reversed(range(mtx.shape[0] - 1 - vert_1, mtx.shape[0] - 1)):\n",
    "        for j in range(start_1, mtx.shape[1] - 1):\n",
    "            if j == start_1 and i == mtx.shape[0] - 2:\n",
    "                mtx[i][j] = (Gamma_1 + Gamma_6) / h ** 2\n",
    "            elif j == start_1 and i == mtx.shape[0] - vert_1 - 1:\n",
    "                mtx[i][j] = (Gamma_1 + Gamma_2) / h ** 2\n",
    "            elif j == mtx.shape[1] - 2 and i == mtx.shape[0] - 2:\n",
    "                mtx[i][j] = (Gamma_6 + Gamma_5) / h ** 2\n",
    "            elif i == mtx.shape[0] - 2:\n",
    "                mtx[i][j] = Gamma_6 / h ** 2\n",
    "            elif i == mtx.shape[0] - vert_1 - 1 and j < start_2:\n",
    "                mtx[i][j] = Gamma_2 / h ** 2\n",
    "            elif j == start_1:\n",
    "                mtx[i][j] = Gamma_1 / h ** 2\n",
    "            elif j == mtx.shape[1] - 2:\n",
    "                mtx[i][j] = Gamma_5 / h ** 2\n",
    "            else:\n",
    "                mtx[i][j] = 0\n",
    "\n",
    "    for i in reversed(range(1, vert_2 + 1)):\n",
    "        for j in range(start_2, mtx.shape[1] - 1):\n",
    "            if j == start_2 and i == 1:\n",
    "                mtx[i][j] = (Gamma_3 + Gamma_4) / h ** 2\n",
    "            elif j == mtx.shape[1] - 2 and i == 1:\n",
    "                mtx[i][j] = (Gamma_4 + Gamma_5) / h ** 2\n",
    "            elif i == 1:\n",
    "                mtx[i][j] = Gamma_4 / h ** 2\n",
    "            elif j == start_2:\n",
    "                mtx[i][j] = Gamma_3 / h ** 2\n",
    "            elif j == mtx.shape[1] - 2:\n",
    "                mtx[i][j] = Gamma_5 / h ** 2\n",
    "            else:\n",
    "                mtx[i][j] = 0\n",
    "    \n",
    "    return mtx"
   ]
  },
  {
   "cell_type": "code",
   "execution_count": 18,
   "metadata": {},
   "outputs": [
    {
     "name": "stdout",
     "output_type": "stream",
     "text": [
      "(121, 151)\n",
      "Количество итераций  213\n",
      "[[ 0.          0.          0.         ... 28.         28.\n",
      "  26.5       ]\n",
      " [ 0.          0.          0.         ... 27.11443217 26.5107655\n",
      "  25.        ]\n",
      " [ 0.          0.          0.         ... 26.54285898 25.92848117\n",
      "  25.        ]\n",
      " ...\n",
      " [28.         27.15938708 26.63259763 ... 25.0350255  25.01752399\n",
      "  25.        ]\n",
      " [28.         26.53319894 25.97332629 ... 25.01744437 25.00879335\n",
      "  25.        ]\n",
      " [26.5        25.         25.         ... 25.         25.\n",
      "  25.        ]]\n"
     ]
    }
   ],
   "source": [
    "mtx = CG(eps = 10 ** (-1))\n",
    "print(mtx)"
   ]
  },
  {
   "cell_type": "code",
   "execution_count": 19,
   "metadata": {},
   "outputs": [
    {
     "data": {
      "text/plain": [
       "<AxesSubplot:>"
      ]
     },
     "execution_count": 19,
     "metadata": {},
     "output_type": "execute_result"
    },
    {
     "data": {
      "image/png": "[encoded data removed]",
      "text/plain": [
       "<Figure size 864x576 with 2 Axes>"
      ]
     },
     "metadata": {
      "needs_background": "light"
     },
     "output_type": "display_data"
    }
   ],
   "source": [
    "plt.figure(figsize = (12, 8))\n",
    "sns.heatmap(mtx, cmap = 'jet', xticklabels = False, yticklabels = False)"
   ]
  }
 ],
 "metadata": {
  "kernelspec": {
   "display_name": "Python 3",
   "language": "python",
   "name": "python3"
  },
  "language_info": {
   "codemirror_mode": {
    "name": "ipython",
    "version": 3
   },
   "file_extension": ".py",
   "mimetype": "text/x-python",
   "name": "python",
   "nbconvert_exporter": "python",
   "pygments_lexer": "ipython3",
   "version": "3.8.5"
  }
 },
 "nbformat": 4,
 "nbformat_minor": 4
}
